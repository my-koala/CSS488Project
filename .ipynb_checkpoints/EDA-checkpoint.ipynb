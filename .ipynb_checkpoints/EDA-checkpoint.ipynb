{
 "cells": [
  {
   "cell_type": "code",
   "execution_count": 3,
   "id": "e8732d03-a99a-41ac-9289-b947355b294a",
   "metadata": {},
   "outputs": [
    {
     "data": {
      "text/html": [
       "<div>\n",
       "<style scoped>\n",
       "    .dataframe tbody tr th:only-of-type {\n",
       "        vertical-align: middle;\n",
       "    }\n",
       "\n",
       "    .dataframe tbody tr th {\n",
       "        vertical-align: top;\n",
       "    }\n",
       "\n",
       "    .dataframe thead th {\n",
       "        text-align: right;\n",
       "    }\n",
       "</style>\n",
       "<table border=\"1\" class=\"dataframe\">\n",
       "  <thead>\n",
       "    <tr style=\"text-align: right;\">\n",
       "      <th></th>\n",
       "      <th>body</th>\n",
       "      <th>id</th>\n",
       "      <th>score</th>\n",
       "      <th>title</th>\n",
       "    </tr>\n",
       "  </thead>\n",
       "  <tbody>\n",
       "    <tr>\n",
       "      <th>0</th>\n",
       "      <td>They start to feel some light precipitation\\n\\...</td>\n",
       "      <td>5twufa</td>\n",
       "      <td>141</td>\n",
       "      <td>A couple are walking in St. Petersburg square ...</td>\n",
       "    </tr>\n",
       "    <tr>\n",
       "      <th>1</th>\n",
       "      <td>He was a seasoned Veteran</td>\n",
       "      <td>5twqzh</td>\n",
       "      <td>109</td>\n",
       "      <td>I met a Soldier that survived Mustard Gas and ...</td>\n",
       "    </tr>\n",
       "    <tr>\n",
       "      <th>2</th>\n",
       "      <td>Twin sisters just turned one hundred years old...</td>\n",
       "      <td>5twb5a</td>\n",
       "      <td>135</td>\n",
       "      <td>Twin sisters just turned 100 years old</td>\n",
       "    </tr>\n",
       "    <tr>\n",
       "      <th>3</th>\n",
       "      <td>Flashbacks</td>\n",
       "      <td>5tw83v</td>\n",
       "      <td>144</td>\n",
       "      <td>What do you get when you spell the word \"man\" ...</td>\n",
       "    </tr>\n",
       "    <tr>\n",
       "      <th>4</th>\n",
       "      <td>A married Irishman went into the confessional ...</td>\n",
       "      <td>5tvmme</td>\n",
       "      <td>17972</td>\n",
       "      <td>Putting it in.</td>\n",
       "    </tr>\n",
       "  </tbody>\n",
       "</table>\n",
       "</div>"
      ],
      "text/plain": [
       "                                                body      id  score  \\\n",
       "0  They start to feel some light precipitation\\n\\...  5twufa    141   \n",
       "1                          He was a seasoned Veteran  5twqzh    109   \n",
       "2  Twin sisters just turned one hundred years old...  5twb5a    135   \n",
       "3                                         Flashbacks  5tw83v    144   \n",
       "4  A married Irishman went into the confessional ...  5tvmme  17972   \n",
       "\n",
       "                                               title  \n",
       "0  A couple are walking in St. Petersburg square ...  \n",
       "1  I met a Soldier that survived Mustard Gas and ...  \n",
       "2             Twin sisters just turned 100 years old  \n",
       "3  What do you get when you spell the word \"man\" ...  \n",
       "4                                     Putting it in.  "
      ]
     },
     "execution_count": 3,
     "metadata": {},
     "output_type": "execute_result"
    }
   ],
   "source": [
    "import pandas as pd\n",
    "from detoxify import Detoxify\n",
    "import json\n",
    "\n",
    "# Load the JSON file\n",
    "with open('filtered_output.json', 'r') as f:\n",
    "    data = json.load(f)\n",
    "\n",
    "# Convert to DataFrame\n",
    "jokes = pd.DataFrame(data)\n",
    "jokes.head()"
   ]
  },
  {
   "cell_type": "markdown",
   "id": "ee3fbd9f-2663-4e76-84f8-2bbb63c06442",
   "metadata": {},
   "source": [
    "## EDA"
   ]
  },
  {
   "cell_type": "code",
   "execution_count": 4,
   "id": "b42fd9bb-fc6a-44a4-8834-6fc04fcdf9fe",
   "metadata": {},
   "outputs": [
    {
     "data": {
      "text/html": [
       "<div>\n",
       "<style scoped>\n",
       "    .dataframe tbody tr th:only-of-type {\n",
       "        vertical-align: middle;\n",
       "    }\n",
       "\n",
       "    .dataframe tbody tr th {\n",
       "        vertical-align: top;\n",
       "    }\n",
       "\n",
       "    .dataframe thead th {\n",
       "        text-align: right;\n",
       "    }\n",
       "</style>\n",
       "<table border=\"1\" class=\"dataframe\">\n",
       "  <thead>\n",
       "    <tr style=\"text-align: right;\">\n",
       "      <th></th>\n",
       "      <th>body</th>\n",
       "      <th>id</th>\n",
       "      <th>score</th>\n",
       "      <th>title</th>\n",
       "    </tr>\n",
       "  </thead>\n",
       "  <tbody>\n",
       "    <tr>\n",
       "      <th>0</th>\n",
       "      <td>they start to feel some light precipitation\\n\\...</td>\n",
       "      <td>5twufa</td>\n",
       "      <td>141</td>\n",
       "      <td>A couple are walking in St. Petersburg square ...</td>\n",
       "    </tr>\n",
       "    <tr>\n",
       "      <th>1</th>\n",
       "      <td>he was a seasoned veteran</td>\n",
       "      <td>5twqzh</td>\n",
       "      <td>109</td>\n",
       "      <td>I met a Soldier that survived Mustard Gas and ...</td>\n",
       "    </tr>\n",
       "    <tr>\n",
       "      <th>2</th>\n",
       "      <td>twin sisters just turned one hundred years old...</td>\n",
       "      <td>5twb5a</td>\n",
       "      <td>135</td>\n",
       "      <td>Twin sisters just turned 100 years old</td>\n",
       "    </tr>\n",
       "    <tr>\n",
       "      <th>3</th>\n",
       "      <td>flashbacks</td>\n",
       "      <td>5tw83v</td>\n",
       "      <td>144</td>\n",
       "      <td>What do you get when you spell the word \"man\" ...</td>\n",
       "    </tr>\n",
       "    <tr>\n",
       "      <th>4</th>\n",
       "      <td>a married irishman went into the confessional ...</td>\n",
       "      <td>5tvmme</td>\n",
       "      <td>17972</td>\n",
       "      <td>Putting it in.</td>\n",
       "    </tr>\n",
       "  </tbody>\n",
       "</table>\n",
       "</div>"
      ],
      "text/plain": [
       "                                                body      id  score  \\\n",
       "0  they start to feel some light precipitation\\n\\...  5twufa    141   \n",
       "1                          he was a seasoned veteran  5twqzh    109   \n",
       "2  twin sisters just turned one hundred years old...  5twb5a    135   \n",
       "3                                         flashbacks  5tw83v    144   \n",
       "4  a married irishman went into the confessional ...  5tvmme  17972   \n",
       "\n",
       "                                               title  \n",
       "0  A couple are walking in St. Petersburg square ...  \n",
       "1  I met a Soldier that survived Mustard Gas and ...  \n",
       "2             Twin sisters just turned 100 years old  \n",
       "3  What do you get when you spell the word \"man\" ...  \n",
       "4                                     Putting it in.  "
      ]
     },
     "execution_count": 4,
     "metadata": {},
     "output_type": "execute_result"
    }
   ],
   "source": [
    "# lower case\n",
    "jokes['body'] = jokes['body'].str.lower()\n",
    "jokes.head()"
   ]
  },
  {
   "cell_type": "code",
   "execution_count": 42,
   "id": "b5766e92-fe9a-4331-b26f-87014ff6869a",
   "metadata": {},
   "outputs": [
    {
     "name": "stdout",
     "output_type": "stream",
     "text": [
      "black: 423\n",
      "jew: 217\n",
      "jewish: 116\n",
      "nazi: 24\n",
      "fuck: 1061\n",
      "shit: 524\n",
      "bitch: 174\n",
      "holocaust: 8\n",
      "asian: 43\n",
      "chinese: 81\n",
      "indian: 73\n",
      "mexican: 70\n",
      "nigger: 17\n",
      "trump: 87\n"
     ]
    }
   ],
   "source": [
    "# list of \"potentially\" offensive\n",
    "offensive = ['black','jew','jewish','nazi','fuck','shit','bitch','holocaust','asian','chinese','indian','mexican','nigger','trump']\n",
    "\n",
    "for word in offensive:\n",
    "    offensive_row = jokes[jokes['body'].str.contains(word)]\n",
    "    length = len(offensive_row)\n",
    "    print(f'{word}: {length}')"
   ]
  },
  {
   "cell_type": "code",
   "execution_count": 37,
   "id": "54f255bc-d36c-48e2-b8ab-4f55cfe272b8",
   "metadata": {},
   "outputs": [
    {
     "name": "stdout",
     "output_type": "stream",
     "text": [
      "jokes_length\n",
      "0        242\n",
      "1          7\n",
      "2         10\n",
      "3         22\n",
      "4         39\n",
      "        ... \n",
      "9170       1\n",
      "9186       1\n",
      "9297       1\n",
      "9996       1\n",
      "11756      1\n",
      "Name: count, Length: 2007, dtype: int64\n"
     ]
    }
   ],
   "source": [
    "import matplotlib.pyplot as plt\n",
    "\n",
    "jokes['jokes_length'] = jokes['body'].str.len() # count the jokes length\n",
    "length_counts = jokes['jokes_length'].value_counts().sort_index() # put same length together\n",
    "\n",
    "print(length_counts)"
   ]
  },
  {
   "cell_type": "code",
   "execution_count": 41,
   "id": "b3f652fe-225c-4e6a-b504-0b47acb15673",
   "metadata": {},
   "outputs": [
    {
     "data": {
      "image/png": "[encoded data removed]",
      "text/plain": [
       "<Figure size 640x480 with 1 Axes>"
      ]
     },
     "metadata": {},
     "output_type": "display_data"
    }
   ],
   "source": [
    "capped_values = [min(length, 3000) for length in length_counts]\n",
    "\n",
    "plt.bar(length_counts.index, capped_values)\n",
    "plt.xlabel('Jokes Length')\n",
    "plt.ylabel('Frequency')\n",
    "plt.title('Distribution of Jokes Lengths')\n",
    "plt.ylim(0, 110)\n",
    "plt.show()"
   ]
  },
  {
   "cell_type": "code",
   "execution_count": 24,
   "id": "8bfcdd9f-516c-4132-a9d7-adaf654cb6df",
   "metadata": {},
   "outputs": [
    {
     "name": "stdout",
     "output_type": "stream",
     "text": [
      "20\n"
     ]
    }
   ],
   "source": [
    "more_than_10k = jokes[jokes['jokes_length'] >= 6000]\n",
    "print(len(more_than_10k))"
   ]
  },
  {
   "cell_type": "code",
   "execution_count": null,
   "id": "3c862c72-7c04-4af0-bad0-c80666e0b196",
   "metadata": {},
   "outputs": [],
   "source": []
  }
 ],
 "metadata": {
  "kernelspec": {
   "display_name": "Python 3 (ipykernel)",
   "language": "python",
   "name": "python3"
  },
  "language_info": {
   "codemirror_mode": {
    "name": "ipython",
    "version": 3
   },
   "file_extension": ".py",
   "mimetype": "text/x-python",
   "name": "python",
   "nbconvert_exporter": "python",
   "pygments_lexer": "ipython3",
   "version": "3.11.5"
  }
 },
 "nbformat": 4,
 "nbformat_minor": 5
}
