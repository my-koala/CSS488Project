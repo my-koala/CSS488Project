{
 "cells": [
  {
   "cell_type": "code",
   "execution_count": 2,
   "id": "3b6403da-4448-4e5e-8f1f-3e7fff0e210e",
   "metadata": {},
   "outputs": [
    {
     "data": {
      "text/html": [
       "<div>\n",
       "<style scoped>\n",
       "    .dataframe tbody tr th:only-of-type {\n",
       "        vertical-align: middle;\n",
       "    }\n",
       "\n",
       "    .dataframe tbody tr th {\n",
       "        vertical-align: top;\n",
       "    }\n",
       "\n",
       "    .dataframe thead th {\n",
       "        text-align: right;\n",
       "    }\n",
       "</style>\n",
       "<table border=\"1\" class=\"dataframe\">\n",
       "  <thead>\n",
       "    <tr style=\"text-align: right;\">\n",
       "      <th></th>\n",
       "      <th>body</th>\n",
       "      <th>id</th>\n",
       "      <th>score</th>\n",
       "      <th>title</th>\n",
       "    </tr>\n",
       "  </thead>\n",
       "  <tbody>\n",
       "    <tr>\n",
       "      <th>0</th>\n",
       "      <td>They start to feel some light precipitation\\n\\...</td>\n",
       "      <td>5twufa</td>\n",
       "      <td>141</td>\n",
       "      <td>A couple are walking in St. Petersburg square ...</td>\n",
       "    </tr>\n",
       "    <tr>\n",
       "      <th>1</th>\n",
       "      <td>He was a seasoned Veteran</td>\n",
       "      <td>5twqzh</td>\n",
       "      <td>109</td>\n",
       "      <td>I met a Soldier that survived Mustard Gas and ...</td>\n",
       "    </tr>\n",
       "    <tr>\n",
       "      <th>2</th>\n",
       "      <td>Twin sisters just turned one hundred years old...</td>\n",
       "      <td>5twb5a</td>\n",
       "      <td>135</td>\n",
       "      <td>Twin sisters just turned 100 years old</td>\n",
       "    </tr>\n",
       "    <tr>\n",
       "      <th>3</th>\n",
       "      <td>Flashbacks</td>\n",
       "      <td>5tw83v</td>\n",
       "      <td>144</td>\n",
       "      <td>What do you get when you spell the word \"man\" ...</td>\n",
       "    </tr>\n",
       "    <tr>\n",
       "      <th>4</th>\n",
       "      <td>A married Irishman went into the confessional ...</td>\n",
       "      <td>5tvmme</td>\n",
       "      <td>17972</td>\n",
       "      <td>Putting it in.</td>\n",
       "    </tr>\n",
       "  </tbody>\n",
       "</table>\n",
       "</div>"
      ],
      "text/plain": [
       "                                                body      id  score  \\\n",
       "0  They start to feel some light precipitation\\n\\...  5twufa    141   \n",
       "1                          He was a seasoned Veteran  5twqzh    109   \n",
       "2  Twin sisters just turned one hundred years old...  5twb5a    135   \n",
       "3                                         Flashbacks  5tw83v    144   \n",
       "4  A married Irishman went into the confessional ...  5tvmme  17972   \n",
       "\n",
       "                                               title  \n",
       "0  A couple are walking in St. Petersburg square ...  \n",
       "1  I met a Soldier that survived Mustard Gas and ...  \n",
       "2             Twin sisters just turned 100 years old  \n",
       "3  What do you get when you spell the word \"man\" ...  \n",
       "4                                     Putting it in.  "
      ]
     },
     "execution_count": 2,
     "metadata": {},
     "output_type": "execute_result"
    }
   ],
   "source": [
    "# load the filtered data\n",
    "import pandas as pd\n",
    "import json\n",
    "\n",
    "# Load the JSON file\n",
    "with open('filtered_output.json', 'r') as f:\n",
    "    data = json.load(f)\n",
    "\n",
    "# Convert to DataFrame\n",
    "df = pd.DataFrame(data)\n",
    "\n",
    "df.head(5)"
   ]
  },
  {
   "cell_type": "code",
   "execution_count": 21,
   "id": "b51a6082-60a5-4ec5-b289-807eb958917f",
   "metadata": {},
   "outputs": [
    {
     "data": {
      "text/html": [
       "<div>\n",
       "<style scoped>\n",
       "    .dataframe tbody tr th:only-of-type {\n",
       "        vertical-align: middle;\n",
       "    }\n",
       "\n",
       "    .dataframe tbody tr th {\n",
       "        vertical-align: top;\n",
       "    }\n",
       "\n",
       "    .dataframe thead th {\n",
       "        text-align: right;\n",
       "    }\n",
       "</style>\n",
       "<table border=\"1\" class=\"dataframe\">\n",
       "  <thead>\n",
       "    <tr style=\"text-align: right;\">\n",
       "      <th></th>\n",
       "      <th>score</th>\n",
       "    </tr>\n",
       "  </thead>\n",
       "  <tbody>\n",
       "    <tr>\n",
       "      <th>count</th>\n",
       "      <td>18757.000000</td>\n",
       "    </tr>\n",
       "    <tr>\n",
       "      <th>mean</th>\n",
       "      <td>1137.611825</td>\n",
       "    </tr>\n",
       "    <tr>\n",
       "      <th>std</th>\n",
       "      <td>2817.623380</td>\n",
       "    </tr>\n",
       "    <tr>\n",
       "      <th>min</th>\n",
       "      <td>100.000000</td>\n",
       "    </tr>\n",
       "    <tr>\n",
       "      <th>25%</th>\n",
       "      <td>156.000000</td>\n",
       "    </tr>\n",
       "    <tr>\n",
       "      <th>50%</th>\n",
       "      <td>274.000000</td>\n",
       "    </tr>\n",
       "    <tr>\n",
       "      <th>75%</th>\n",
       "      <td>717.000000</td>\n",
       "    </tr>\n",
       "    <tr>\n",
       "      <th>max</th>\n",
       "      <td>48526.000000</td>\n",
       "    </tr>\n",
       "  </tbody>\n",
       "</table>\n",
       "</div>"
      ],
      "text/plain": [
       "              score\n",
       "count  18757.000000\n",
       "mean    1137.611825\n",
       "std     2817.623380\n",
       "min      100.000000\n",
       "25%      156.000000\n",
       "50%      274.000000\n",
       "75%      717.000000\n",
       "max    48526.000000"
      ]
     },
     "execution_count": 21,
     "metadata": {},
     "output_type": "execute_result"
    }
   ],
   "source": [
    "df.describe()"
   ]
  },
  {
   "cell_type": "code",
   "execution_count": 9,
   "id": "29d658e2-3b37-4e2c-a330-3a1a291a16bd",
   "metadata": {},
   "outputs": [
    {
     "name": "stdout",
     "output_type": "stream",
     "text": [
      "                                                   body      id  score  \\\n",
      "52    On the condition he gets to install windows.\\n...  5tn84z  48526   \n",
      "2037                                           /r/Jokes  4xjyho  45500   \n",
      "\n",
      "                                                  title  \n",
      "52    Breaking News: Bill Gates has agreed to pay fo...  \n",
      "2037    I found a place where the recycling rate is 98%  \n"
     ]
    }
   ],
   "source": [
    "top_n_scores = df.nlargest(2, 'score')\n",
    "\n",
    "print(top_n_scores)"
   ]
  },
  {
   "cell_type": "code",
   "execution_count": 17,
   "id": "a892b3e8-5915-4757-8926-42718f1c73cf",
   "metadata": {},
   "outputs": [],
   "source": [
    "best_joke = df.loc[df['id'] == '5tn84z']"
   ]
  },
  {
   "cell_type": "code",
   "execution_count": 16,
   "id": "a2c5b0e9-19e1-426c-8d42-b74a71ade2e3",
   "metadata": {},
   "outputs": [
    {
     "name": "stdout",
     "output_type": "stream",
     "text": [
      "52    Breaking News: Bill Gates has agreed to pay for Trump's wall\n",
      "Name: title, dtype: object\n",
      "52    On the condition he gets to install windows.\\n\\n\\n\n",
      "Name: body, dtype: object\n"
     ]
    }
   ],
   "source": [
    "print(best_joke.title)\n",
    "print(best_joke.body)"
   ]
  },
  {
   "cell_type": "code",
   "execution_count": 18,
   "id": "3a0fe1be-7377-4457-be76-f97b3b5c616c",
   "metadata": {},
   "outputs": [
    {
     "name": "stdout",
     "output_type": "stream",
     "text": [
      "2037    I found a place where the recycling rate is 98%\n",
      "Name: title, dtype: object\n",
      "2037    /r/Jokes\n",
      "Name: body, dtype: object\n"
     ]
    }
   ],
   "source": [
    "second = df.loc[df['id'] == '4xjyho']\n",
    "print(second.title)\n",
    "print(second.body)"
   ]
  },
  {
   "cell_type": "code",
   "execution_count": 6,
   "id": "b4e63dd5-fddf-4874-a3c1-236fd451f958",
   "metadata": {},
   "outputs": [
    {
     "data": {
      "text/plain": [
       "Text(0.5, 1.0, \"Jokes' score distribution\")"
      ]
     },
     "execution_count": 6,
     "metadata": {},
     "output_type": "execute_result"
    },
    {
     "data": {
      "image/png": "[encoded data removed]",
      "text/plain": [
       "<Figure size 640x480 with 1 Axes>"
      ]
     },
     "metadata": {},
     "output_type": "display_data"
    }
   ],
   "source": [
    "import matplotlib.pyplot as plt\n",
    "import numpy as np\n",
    "\n",
    "plt.hist(df.score, bins=10, color='skyblue', edgecolor='black')\n",
    "plt.xlabel(\"Score\")\n",
    "plt.ylabel(\"Frequency\")\n",
    "plt.title(\"Jokes' score distribution\")"
   ]
  },
  {
   "cell_type": "code",
   "execution_count": null,
   "id": "82af48f2-0028-4ed0-977d-250611efd949",
   "metadata": {},
   "outputs": [],
   "source": []
  }
 ],
 "metadata": {
  "kernelspec": {
   "display_name": "Python 3 (ipykernel)",
   "language": "python",
   "name": "python3"
  },
  "language_info": {
   "codemirror_mode": {
    "name": "ipython",
    "version": 3
   },
   "file_extension": ".py",
   "mimetype": "text/x-python",
   "name": "python",
   "nbconvert_exporter": "python",
   "pygments_lexer": "ipython3",
   "version": "3.11.5"
  }
 },
 "nbformat": 4,
 "nbformat_minor": 5
}
